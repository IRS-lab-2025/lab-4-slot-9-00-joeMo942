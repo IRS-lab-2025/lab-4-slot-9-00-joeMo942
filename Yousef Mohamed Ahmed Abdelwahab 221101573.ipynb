{
  "nbformat": 4,
  "nbformat_minor": 0,
  "metadata": {
    "colab": {
      "provenance": []
    },
    "kernelspec": {
      "name": "python3",
      "display_name": "Python 3"
    },
    "language_info": {
      "name": "python"
    }
  },
  "cells": [
    {
      "cell_type": "code",
      "execution_count": 4,
      "metadata": {
        "colab": {
          "base_uri": "https://localhost:8080/"
        },
        "id": "Cy7RKsvRra6I",
        "outputId": "dac91230-9649-4919-e9d1-b363c92ce4f8"
      },
      "outputs": [
        {
          "output_type": "stream",
          "name": "stdout",
          "text": [
            "Pearson Correlation: 0.775\n"
          ]
        }
      ],
      "source": [
        "import numpy as np\n",
        "def pearson_correlation(user1, user2):\n",
        "    \"\"\"Calculate Pearson correlation between two users\"\"\"\n",
        "\n",
        "    # Get common rated items\n",
        "    mask = []\n",
        "    for i in range(len(user1)):\n",
        "        if user1[i] != 0 and user2[i] != 0:\n",
        "            mask.append(i)\n",
        "\n",
        "    if len(mask) == 0:\n",
        "        return 0\n",
        "\n",
        "    # Extract common ratings\n",
        "    u1 = [user1[i] for i in mask]\n",
        "    u2 = [user2[i] for i in mask]\n",
        "\n",
        "    # Compute means manually\n",
        "    sum1 = 0\n",
        "    sum2 = 0\n",
        "    for i in range(len(u1)):\n",
        "        sum1 += u1[i]\n",
        "        sum2 += u2[i]\n",
        "\n",
        "    mean1 = sum1 / len(u1)\n",
        "    mean2 = sum2 / len(u2)\n",
        "\n",
        "    # Compute deviations\n",
        "    dev1 = []\n",
        "    dev2 = []\n",
        "    for i in range(len(u1)):\n",
        "        dev1.append(u1[i] - mean1)\n",
        "        dev2.append(u2[i] - mean2)\n",
        "\n",
        "\n",
        "    # Compute numerator (dot product)\n",
        "    numerator = 0\n",
        "    for i in range(len(dev1)):\n",
        "      numerator+=dev1[i]*dev2[i]\n",
        "\n",
        "    # Compute denominator (sqrt of sum of squares)\n",
        "    sum_sq1 = 0\n",
        "    sum_sq2 = 0\n",
        "    for i in range(len(dev1)):\n",
        "        sum_sq1 += dev1[i] ** 2\n",
        "        sum_sq2 += dev2[i] ** 2\n",
        "\n",
        "    denominator = (sum_sq1 ** 0.5) * (sum_sq2 ** 0.5)\n",
        "\n",
        "    if denominator == 0:\n",
        "        return 0\n",
        "\n",
        "    return numerator / denominator\n",
        "\n",
        "\n",
        "# Example usage\n",
        "user_A = np.array([5, 3, 0, 4, 0, 2])\n",
        "user_C = np.array([4, 3, 4, 3, 5, 3])\n",
        "\n",
        "correlation = pearson_correlation(user_A, user_C)\n",
        "print(f\"Pearson Correlation: {correlation:.3f}\")\n",
        "# Output: Pearson Correlation: 0.775"
      ]
    }
  ]
}